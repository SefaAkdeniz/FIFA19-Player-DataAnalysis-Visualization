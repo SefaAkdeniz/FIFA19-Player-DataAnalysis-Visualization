{
 "cells": [
  {
   "cell_type": "markdown",
   "metadata": {},
   "source": [
    "# FIFA 19 Player Data Analysis and Visualization EDA\n",
    "FIFA 19 is a football simulation video game developed by EA Vancouver as part of Electronic Arts' FIFA series. Announced on 6 June 2018 for its E3 2018 press conference, it was released on 28 September 2018 for PlayStation 3, PlayStation 4, Xbox 360, Xbox One, Nintendo Switch, and Microsoft Windows.It is the 26th installment in the FIFA series. As with FIFA 18, Cristiano Ronaldo initially as the cover athlete of the regular edition: however, following his unanticipated transfer from Spanish club Real Madrid to Italian side Juventus, new cover art was released, featuring Neymar, Kevin De Bruyne and Paulo Dybala.\n",
    "\n",
    "The game features the UEFA club competitions for the first time, including the UEFA Champions League and UEFA Europa League.Martin Tyler and Alan Smith return as regular commentators, while the new commentary team of Derek Rae and Lee Dixon feature in the UEFA competitions mode.Composer Hans Zimmer and rapper Vince Staples recorded a new remix of the UEFA Champions League anthem specifically for the game. The character Alex Hunter, who first appeared in FIFA 17 returns for the third and final installment of \"The Journey\", entitled, \"The Journey: Champions\".In June 2019, a free update added the FIFA Women's World Cup as a separate game mode.\n",
    "\n",
    "This is the last game in the FIFA series to be available on a seventh-generation console, and the last known game to be available for the PlayStation 3 worldwide."
   ]
  },
  {
   "cell_type": "markdown",
   "metadata": {},
   "source": [
    "### Used Libraries\n",
    "1. NumPy (Numerical Python)\n",
    "2. Pandas\n",
    "3. Matplotlib\n",
    "4. Seaborn\n",
    "5. Plotly\n",
    "6. Missingno"
   ]
  },
  {
   "cell_type": "code",
   "execution_count": 8,
   "metadata": {
    "_cell_guid": "b1076dfc-b9ad-4769-8c92-a6c4dae69d19",
    "_uuid": "8f2839f25d086af736a60e9eeb907d3b93b6e0e5"
   },
   "outputs": [
    {
     "ename": "ModuleNotFoundError",
     "evalue": "No module named 'plotly'",
     "output_type": "error",
     "traceback": [
      "\u001b[1;31m---------------------------------------------------------------------------\u001b[0m",
      "\u001b[1;31mModuleNotFoundError\u001b[0m                       Traceback (most recent call last)",
      "\u001b[1;32m<ipython-input-8-bf2b27f3afd9>\u001b[0m in \u001b[0;36m<module>\u001b[1;34m\u001b[0m\n\u001b[0;32m      7\u001b[0m \u001b[1;32mfrom\u001b[0m \u001b[0mPIL\u001b[0m \u001b[1;32mimport\u001b[0m \u001b[0mImage\u001b[0m\u001b[1;33m\u001b[0m\u001b[1;33m\u001b[0m\u001b[0m\n\u001b[0;32m      8\u001b[0m \u001b[1;32mimport\u001b[0m \u001b[0mseaborn\u001b[0m \u001b[1;32mas\u001b[0m \u001b[0msns\u001b[0m\u001b[1;33m\u001b[0m\u001b[1;33m\u001b[0m\u001b[0m\n\u001b[1;32m----> 9\u001b[1;33m \u001b[1;32mimport\u001b[0m \u001b[0mplotly\u001b[0m\u001b[1;33m.\u001b[0m\u001b[0mgraph_objs\u001b[0m \u001b[1;32mas\u001b[0m \u001b[0mgo\u001b[0m\u001b[1;33m\u001b[0m\u001b[1;33m\u001b[0m\u001b[0m\n\u001b[0m\u001b[0;32m     10\u001b[0m \u001b[1;32mfrom\u001b[0m \u001b[0mplotly\u001b[0m\u001b[1;33m.\u001b[0m\u001b[0moffline\u001b[0m \u001b[1;32mimport\u001b[0m \u001b[0minit_notebook_mode\u001b[0m\u001b[1;33m,\u001b[0m \u001b[0miplot\u001b[0m\u001b[1;33m\u001b[0m\u001b[1;33m\u001b[0m\u001b[0m\n\u001b[0;32m     11\u001b[0m \u001b[0minit_notebook_mode\u001b[0m\u001b[1;33m(\u001b[0m\u001b[0mconnected\u001b[0m\u001b[1;33m=\u001b[0m\u001b[1;32mTrue\u001b[0m\u001b[1;33m)\u001b[0m\u001b[1;33m\u001b[0m\u001b[1;33m\u001b[0m\u001b[0m\n",
      "\u001b[1;31mModuleNotFoundError\u001b[0m: No module named 'plotly'"
     ]
    }
   ],
   "source": [
    "import numpy as np # linear algebra\n",
    "import pandas as pd # data processing, CSV file I/O (e.g. pd.read_csv)\n",
    "\n",
    "# visualization tools\n",
    "import matplotlib.pyplot as plt\n",
    "from wordcloud import WordCloud\n",
    "from PIL import Image\n",
    "import seaborn as sns\n",
    "import plotly.graph_objs as go\n",
    "from plotly.offline import init_notebook_mode, iplot\n",
    "init_notebook_mode(connected=True)\n",
    "\n",
    "import os\n",
    "for dirname, _, filenames in os.walk('/kaggle/input'):\n",
    "    for filename in filenames:\n",
    "        print(os.path.join(dirname, filename))"
   ]
  },
  {
   "cell_type": "markdown",
   "metadata": {},
   "source": [
    "### Content:\n",
    "1. Missingo - Missing Data\n",
    "2. Data Cleaning\n",
    "3. Seaborn - Heatmap\n",
    "4. Seaborn - Bar Plot\n",
    "5. Plotly - Bar Plot\n",
    "6. Word Cloud\n",
    "7. Plotly - Donut Chart\n",
    "8. Plotly - Box Plot\n",
    "9. Plotly - 3D Scatter Plot"
   ]
  },
  {
   "cell_type": "markdown",
   "metadata": {},
   "source": [
    "### Reading Data"
   ]
  },
  {
   "cell_type": "code",
   "execution_count": null,
   "metadata": {
    "_cell_guid": "79c7e3d0-c299-4dcb-8224-4455121ee9b0",
    "_uuid": "d629ff2d2480ee46fbb7e2d37f6b5fab8052498a"
   },
   "outputs": [],
   "source": [
    "df=pd.read_csv(\"data.csv\")"
   ]
  },
  {
   "cell_type": "code",
   "execution_count": 6,
   "metadata": {},
   "outputs": [
    {
     "ename": "NameError",
     "evalue": "name 'df' is not defined",
     "output_type": "error",
     "traceback": [
      "\u001b[1;31m---------------------------------------------------------------------------\u001b[0m",
      "\u001b[1;31mNameError\u001b[0m                                 Traceback (most recent call last)",
      "\u001b[1;32m<ipython-input-6-b2aa74db348b>\u001b[0m in \u001b[0;36m<module>\u001b[1;34m\u001b[0m\n\u001b[1;32m----> 1\u001b[1;33m \u001b[0mdf\u001b[0m\u001b[1;33m.\u001b[0m\u001b[0msample\u001b[0m\u001b[1;33m(\u001b[0m\u001b[1;36m5\u001b[0m\u001b[1;33m)\u001b[0m\u001b[1;33m\u001b[0m\u001b[1;33m\u001b[0m\u001b[0m\n\u001b[0m",
      "\u001b[1;31mNameError\u001b[0m: name 'df' is not defined"
     ]
    }
   ],
   "source": [
    "df.sample(5)"
   ]
  },
  {
   "cell_type": "code",
   "execution_count": 7,
   "metadata": {},
   "outputs": [
    {
     "ename": "NameError",
     "evalue": "name 'df' is not defined",
     "output_type": "error",
     "traceback": [
      "\u001b[1;31m---------------------------------------------------------------------------\u001b[0m",
      "\u001b[1;31mNameError\u001b[0m                                 Traceback (most recent call last)",
      "\u001b[1;32m<ipython-input-7-a74c58233b9e>\u001b[0m in \u001b[0;36m<module>\u001b[1;34m\u001b[0m\n\u001b[1;32m----> 1\u001b[1;33m \u001b[0mdf\u001b[0m\u001b[1;33m.\u001b[0m\u001b[0minfo\u001b[0m\u001b[1;33m(\u001b[0m\u001b[1;33m)\u001b[0m\u001b[1;33m\u001b[0m\u001b[1;33m\u001b[0m\u001b[0m\n\u001b[0m",
      "\u001b[1;31mNameError\u001b[0m: name 'df' is not defined"
     ]
    }
   ],
   "source": [
    "df.info()"
   ]
  },
  {
   "cell_type": "code",
   "execution_count": null,
   "metadata": {},
   "outputs": [],
   "source": [
    "df.isnull().sum()"
   ]
  },
  {
   "cell_type": "markdown",
   "metadata": {},
   "source": [
    "# Missingno - Missing Data"
   ]
  },
  {
   "cell_type": "code",
   "execution_count": null,
   "metadata": {},
   "outputs": [],
   "source": [
    "import missingno as msno\n",
    "msno.matrix(df)\n",
    "plt.show()"
   ]
  },
  {
   "cell_type": "markdown",
   "metadata": {},
   "source": [
    "# Data Cleaning\n",
    "### Removed unnecessary"
   ]
  },
  {
   "cell_type": "code",
   "execution_count": null,
   "metadata": {},
   "outputs": [],
   "source": [
    "df.columns"
   ]
  },
  {
   "cell_type": "code",
   "execution_count": null,
   "metadata": {},
   "outputs": [],
   "source": [
    "df.drop(columns=['Unnamed: 0','Photo','Flag','Club Logo'],inplace=True)"
   ]
  },
  {
   "cell_type": "markdown",
   "metadata": {},
   "source": [
    "# Seaborn - Heatmap\n",
    "### Relationship between columns\n",
    "* 01 --> Direct proportion\n",
    "* 00 --> No relationship\n",
    "* -1 --> İnverse proportion"
   ]
  },
  {
   "cell_type": "code",
   "execution_count": null,
   "metadata": {},
   "outputs": [],
   "source": [
    "f,ax = plt.subplots(figsize=(25, 15))\n",
    "sns.heatmap(df.corr(), annot=True, linewidths=0.5,linecolor=\"red\", fmt= '.1f',ax=ax)\n",
    "plt.show()"
   ]
  },
  {
   "cell_type": "markdown",
   "metadata": {},
   "source": [
    "# Seaborn - Bar Plot"
   ]
  },
  {
   "cell_type": "code",
   "execution_count": null,
   "metadata": {},
   "outputs": [],
   "source": [
    "nationalityDf = pd.DataFrame(columns = ['Nationality'])\n",
    "nationalityDf[\"Nationality\"]=[each for each in df.Nationality.unique()]\n",
    "nationalityDf[\"maxOverall\"]=[df.Overall[df.Nationality==each].max() for each in nationalityDf.Nationality]\n",
    "nationalityDf[\"meanOverall\"]=[df.Overall[df.Nationality==each].mean() for each in nationalityDf.Nationality]\n",
    "nationalityDf[\"minOverall\"]=[df.Overall[df.Nationality==each].min() for each in nationalityDf.Nationality]\n",
    "nationalityDf.sort_values(by=['maxOverall','meanOverall','minOverall'],ascending=False)\n",
    "nationalityDf=nationalityDf.head(25)\n",
    "\n",
    "# visualization\n",
    "f,ax = plt.subplots(figsize = (25,15))\n",
    "sns.barplot(x=nationalityDf.maxOverall,y=nationalityDf.Nationality,color='green',alpha = 0.5,label='max Overall' )\n",
    "sns.barplot(x=nationalityDf.meanOverall,y=nationalityDf.Nationality,color='blue',alpha = 0.7,label='mean Overall')\n",
    "sns.barplot(x=nationalityDf.minOverall,y=nationalityDf.Nationality,color='cyan',alpha = 0.6,label='min Overall')\n",
    "\n",
    "ax.legend(loc='lower right',frameon = True)\n",
    "ax.set(xlabel='Value', ylabel='Nationality',title = \"Nationality Player Max - Mean - Min Value\")\n",
    "plt.show()"
   ]
  },
  {
   "cell_type": "markdown",
   "metadata": {},
   "source": [
    "# Plotly - Bar Plot ( Interactive )\n",
    "### It takes RGB \"0-255\" for all values for opacity \"0-1\""
   ]
  },
  {
   "cell_type": "code",
   "execution_count": null,
   "metadata": {},
   "outputs": [],
   "source": [
    "ClubDf = pd.DataFrame(columns = ['Club'])\n",
    "ClubDf[\"Club\"]=[each for each in df.Club.unique()]\n",
    "ClubDf[\"maxOverall\"]=[df.Overall[df.Club==each].max() for each in ClubDf.Club]\n",
    "ClubDf[\"meanOverall\"]=[df.Overall[df.Club==each].mean() for each in ClubDf.Club]\n",
    "ClubDf[\"minOverall\"]=[df.Overall[df.Club==each].min() for each in ClubDf.Club]\n",
    "ClubDf.sort_values(by=['maxOverall','meanOverall','minOverall'],ascending=False)\n",
    "ClubDf=ClubDf.head(25)\n",
    "# create trace1 \n",
    "trace1 = go.Bar(\n",
    "                x = ClubDf.Club,\n",
    "                y = ClubDf.maxOverall,\n",
    "                name = \"Max Overall Value\",\n",
    "                marker = dict(color = 'rgba(55, 114, 55, 1)',\n",
    "                             line=dict(color='rgb(0,0,0)',width=1.5)),\n",
    "                text = ClubDf.Club)\n",
    "# create trace2 \n",
    "trace2 = go.Bar(\n",
    "                x = ClubDf.Club,\n",
    "                y = ClubDf.meanOverall,\n",
    "                name = \"Mean Overall Value\",\n",
    "                marker = dict(color = 'rgba(235, 155, 12, 1)',\n",
    "                              line=dict(color='rgb(0,0,0)',width=1.5)),\n",
    "                text = ClubDf.Club)\n",
    "# create trace3 \n",
    "trace3 = go.Bar(\n",
    "                x = ClubDf.Club,\n",
    "                y = ClubDf.minOverall,\n",
    "                name = \"Min Overall Value\",\n",
    "                marker = dict(color = 'rgba(235, 155, 162, 1)',\n",
    "                              line=dict(color='rgb(0,0,0)',width=1.5)),\n",
    "                text = ClubDf.Club)\n",
    "data = [trace1, trace2, trace3]\n",
    "layout = go.Layout(barmode = \"group\")\n",
    "fig = go.Figure(data = data, layout = layout)\n",
    "iplot(fig)"
   ]
  },
  {
   "cell_type": "markdown",
   "metadata": {},
   "source": [
    "# Word Cloud\n",
    "### Nationality Text Size = Nationality Player Count"
   ]
  },
  {
   "cell_type": "code",
   "execution_count": null,
   "metadata": {},
   "outputs": [],
   "source": [
    "wave_mask= np.array(Image.open(\"../input/soccer/soccer.png\"))\n",
    "plt.subplots(figsize=(15,15))\n",
    "wordcloud = WordCloud(    mask=wave_mask,\n",
    "                          background_color=\"lavenderblush\",\n",
    "                          colormap=\"hsv\",\n",
    "                          contour_width=2,\n",
    "                          contour_color=\"black\",\n",
    "                          width=1920,\n",
    "                          height=1080\n",
    "                         ).generate(\" \".join(df.Nationality))\n",
    "plt.imshow(wordcloud)\n",
    "plt.axis('off')\n",
    "plt.savefig('graph.png')\n",
    "plt.show()"
   ]
  },
  {
   "cell_type": "markdown",
   "metadata": {},
   "source": [
    "# Plotly - Donut Chart ( Interactive )\n",
    "### Effect of preferred foot on position\n",
    "* GK (Goalkeeper)\n",
    "* RB (Right Back)\n",
    "* RWB (Right Wing Back)\n",
    "* LB (Lef Back)\n",
    "* LWB (Lef Wing Back)\n",
    "* CB (Center Back)\n",
    "* RCB (Right Center Back)\n",
    "* LCB (Left Center Back)\n",
    "* CM (Center Midfielder)\n",
    "* RCM (Right Center Midfielder)\n",
    "* LCM (Left Center Midfielder)\n",
    "* CDM (Center Defensive Midfielder)\n",
    "* RCDM (Right Center Defensive Midfielder)\n",
    "* LCDM (Left Center Defensive Midfielder\n",
    "* CAM (Center Attacking Midfielder)\n",
    "* RM (Right Midfielder)\n",
    "* RWM (Right Wing Midfielder)\n",
    "* LM (Left Midfielder)\n",
    "* LWM (Left Wing Midfielder)\n",
    "* ST (Striker)\n",
    "* CF (Center Forward)\n",
    "* RF (Right Forward)\n",
    "* LF (Left Forward)\n",
    "* SF (Secret Forward)"
   ]
  },
  {
   "cell_type": "code",
   "execution_count": null,
   "metadata": {},
   "outputs": [],
   "source": [
    "LeftLabels = df[df[\"Preferred Foot\"]==\"Left\"].Position.value_counts().head(10).index\n",
    "LeftValues = df[df[\"Preferred Foot\"]==\"Left\"].Position.value_counts().head(10).values\n",
    "RightLabels = df[df[\"Preferred Foot\"]==\"Right\"].Position.value_counts().head(10).index\n",
    "RightValues = df[df[\"Preferred Foot\"]==\"Right\"].Position.value_counts().head(10).values\n",
    "\n",
    "from plotly.subplots import make_subplots\n",
    "\n",
    "# Create subplots: use 'domain' type for Pie subplot\n",
    "fig = make_subplots(rows=1, cols=2, specs=[[{'type':'domain'}, {'type':'domain'}]])\n",
    "fig.add_trace(go.Pie(labels=LeftLabels, values=LeftValues, name=\"Left Foot Preferred\"),\n",
    "              1, 1)\n",
    "fig.add_trace(go.Pie(labels=RightLabels, values=RightValues, name=\"Right Foot Preferred\"),\n",
    "              1, 2)\n",
    "\n",
    "# Use `hole` to create a donut-like pie chart\n",
    "fig.update_traces(hole=.4, hoverinfo=\"label+percent+name\")\n",
    "\n",
    "fig.update_layout(\n",
    "    # Add annotations in the center of the donut pies.\n",
    "    annotations=[dict(text='LEFT', x=0.18, y=0.5, font_size=20, showarrow=False),\n",
    "                 dict(text='RİGHT', x=0.82, y=0.5, font_size=20, showarrow=False)])\n",
    "fig.show()"
   ]
  },
  {
   "cell_type": "markdown",
   "metadata": {},
   "source": [
    "# Plotly - Box Plot ( Interactive )\n",
    "### Barcelona vs Real Madrid (min,q1,median,q3,max value)"
   ]
  },
  {
   "cell_type": "code",
   "execution_count": null,
   "metadata": {},
   "outputs": [],
   "source": [
    "team1 = df[df.Club==\"FC Barcelona\"].Overall\n",
    "team2 = df[df.Club==\"Real Madrid\"].Overall\n",
    "\n",
    "fig = go.Figure()\n",
    "# Use x instead of y argument for horizontal plot\n",
    "fig.add_trace(go.Box(x=team1, name='FC Barcelona'))\n",
    "fig.add_trace(go.Box(x=team2, name='Real Madrid'))\n",
    "\n",
    "fig.show()"
   ]
  },
  {
   "cell_type": "markdown",
   "metadata": {},
   "source": [
    "# Plotly - 3D Scatter Plot ( Interactive )\n",
    "* X = Crossing\n",
    "* Y = Finishing\n",
    "* Z = Short Passing"
   ]
  },
  {
   "cell_type": "code",
   "execution_count": null,
   "metadata": {},
   "outputs": [],
   "source": [
    "GalatasarayTeam = df[df.Club == \"Galatasaray SK\"].iloc[:,[50,51,53]]\n",
    "FenerbahceTeam = df[df.Club == \"Fenerbahçe SK\"].iloc[:,[50,51,53]]\n",
    "\n",
    "# trace1 =  Galatasarayy SK\n",
    "trace1 = go.Scatter3d(\n",
    "    x=GalatasarayTeam.Crossing,\n",
    "    y=GalatasarayTeam.Finishing,\n",
    "    z=GalatasarayTeam.ShortPassing,\n",
    "    mode='markers',\n",
    "    name = \"Galatasaray SK\",\n",
    "    marker=dict(\n",
    "        color='rgb(200, 0, 0)',\n",
    "        size=12,\n",
    "        line=dict(\n",
    "            color='rgb(255, 255, 255)',\n",
    "            width=0.1\n",
    "        )\n",
    "    )\n",
    ")\n",
    "# trace2 = Fenerbahçe SK\n",
    "trace2 = go.Scatter3d(\n",
    "    x=FenerbahceTeam.Crossing,\n",
    "    y=FenerbahceTeam.Finishing,\n",
    "    z=FenerbahceTeam.ShortPassing,\n",
    "    mode='markers',\n",
    "    name = \"Fenerbahçe SK\",\n",
    "    marker=dict(\n",
    "        color='rgb(0, 0, 200)',\n",
    "        size=12,\n",
    "        line=dict(\n",
    "            color='rgb(204, 204, 204)',\n",
    "            width=0.1\n",
    "        )\n",
    "    )\n",
    ")\n",
    "data = [trace1, trace2]\n",
    "layout = go.Layout(\n",
    "    title = ' 3D Galatasaray and Fenerbaçe',\n",
    "    margin=dict(\n",
    "        l=0,\n",
    "        r=0,\n",
    "        b=0,\n",
    "        t=0\n",
    "    )\n",
    ")\n",
    "fig = go.Figure(data=data, layout=layout)\n",
    "iplot(fig)"
   ]
  },
  {
   "cell_type": "markdown",
   "metadata": {},
   "source": [
    "# Thank You\n",
    "\n",
    "If you have any suggestion or advice or feedback, I will be very appreciated to hear them.\n",
    "### Also there are other visualization kernels\n",
    "* [FIFA 19 Player Data Analysis and Visualization EDA](https://www.kaggle.com/ismailsefa/f-fa-19-player-data-analysis-and-visualization-eda)\n",
    "* [Crimes Data Analysis and Visualzation (EDA)](https://www.kaggle.com/ismailsefa/crimes-data-analysis-and-visualzation-eda)\n",
    "* [Google Play Store Apps Data Analysis (EDA)](https://www.kaggle.com/ismailsefa/google-play-store-apps-data-analysis-eda)\n",
    "* [World Happiness Data Analysis and Visualization](https://www.kaggle.com/ismailsefa/world-happiness-data-analysis-and-visualization)\n",
    "* [Used Cars Data Analysis and Visualization (EDA)](https://www.kaggle.com/ismailsefa/used-cars-data-analysis-and-visualization-eda)\n",
    "* [Gender Recognition by Voice Machine Learning SVM](https://www.kaggle.com/ismailsefa/gender-recognition-by-voice-machine-learning-svm)"
   ]
  }
 ],
 "metadata": {
  "kernelspec": {
   "display_name": "Python 3",
   "language": "python",
   "name": "python3"
  },
  "language_info": {
   "codemirror_mode": {
    "name": "ipython",
    "version": 3
   },
   "file_extension": ".py",
   "mimetype": "text/x-python",
   "name": "python",
   "nbconvert_exporter": "python",
   "pygments_lexer": "ipython3",
   "version": "3.7.3"
  }
 },
 "nbformat": 4,
 "nbformat_minor": 1
}
